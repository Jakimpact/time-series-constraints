{
 "cells": [
  {
   "cell_type": "code",
   "execution_count": 1,
   "metadata": {},
   "outputs": [],
   "source": [
    "import numpy as np\n",
    "import pandas as pd\n",
    "\n",
    "from scipy.optimize import minimize"
   ]
  },
  {
   "cell_type": "code",
   "execution_count": 62,
   "metadata": {},
   "outputs": [],
   "source": [
    "date_range = pd.date_range(start='2022-01-01', end='2023-12-31', freq='D')\n",
    "saisies = pd.Series(np.random.randint(1500, 3001, size=len(date_range)), index=date_range)\n",
    "initial_receptions = saisies.apply(lambda x: x * np.random.uniform(0.2, 1.2))"
   ]
  },
  {
   "cell_type": "markdown",
   "metadata": {},
   "source": [
    "\n",
    "Approche\tAvantages\tInconvénients\n",
    "Constrained Optimization\tContraintes directement intégrées dans le modèle, résultats optimisés globalement.\tPlus complexe à implémenter, nécessite de bien calibrer les pénalités.\n",
    "Post-processing\tSimple à mettre en œuvre, adaptable à tout modèle préexistant.\tRésolution a posteriori, peut réduire la précision des prévisions.\n",
    "Régularisation avec XGBoost\tModèles performants et scalables, facile à intégrer dans un pipeline existant.\tFonction objective plus complexe à implémenter."
   ]
  },
  {
   "cell_type": "markdown",
   "metadata": {},
   "source": [
    "# Custom objective pour LightGBM"
   ]
  },
  {
   "cell_type": "code",
   "execution_count": null,
   "metadata": {},
   "outputs": [],
   "source": [
    "import numpy as np\n",
    "import lightgbm as lgb\n",
    "\n",
    "def custom_objective(y_true, y_pred, saisies_pred, lambda_reg=1.0):\n",
    "    grad = 2 * (y_pred - y_true)\n",
    "    hess = 2 * np.ones_like(y_pred)\n",
    "    # Pénalité si réceptions > saisies\n",
    "    penalty = np.clip(y_pred - saisies_pred, 0, None)\n",
    "    grad += lambda_reg * penalty\n",
    "    return grad, hess\n",
    "\n",
    "lgb.Dataset(X_train, label=y_train)\n",
    "params = {\n",
    "    'objective': 'regression',\n",
    "    'metric': 'mse'\n",
    "}\n",
    "model = lgb.train(params, train_data, fobj=lambda y_true, y_pred: custom_objective(y_true, y_pred, saisies_pred))"
   ]
  },
  {
   "cell_type": "markdown",
   "metadata": {},
   "source": [
    "# Pendant l'entrainement"
   ]
  },
  {
   "cell_type": "markdown",
   "metadata": {},
   "source": [
    "Définition d'une fonction loss custom qu'on va venir passer à un modèle comme XGBoost (custom objective)"
   ]
  },
  {
   "cell_type": "code",
   "execution_count": null,
   "metadata": {},
   "outputs": [],
   "source": [
    "import torch\n",
    "\n",
    "def custom_loss(y_true, y_pred, saisies_pred, lambda_reg=1.0):\n",
    "    mse = torch.mean((y_true - y_pred) ** 2)\n",
    "    constraint_violation = torch.mean(torch.clamp(y_pred - saisies_pred, min=0))  # Pénalité si réception > saisie\n",
    "    return mse + lambda_reg * constraint_violation"
   ]
  },
  {
   "cell_type": "markdown",
   "metadata": {},
   "source": [
    "# Post traitement"
   ]
  },
  {
   "cell_type": "code",
   "execution_count": 43,
   "metadata": {},
   "outputs": [],
   "source": [
    "def objective(receptions):\n",
    "    return np.sum((receptions - initial_receptions)**2)\n",
    "\n",
    "def constraint_moving_avg(receptions):\n",
    "    rolling_saisies = saisies.rolling(window=30).mean().dropna()\n",
    "    rolling_receptions = pd.Series(receptions).rolling(window=30).mean().dropna()\n",
    "    return rolling_saisies - rolling_receptions"
   ]
  },
  {
   "cell_type": "code",
   "execution_count": null,
   "metadata": {},
   "outputs": [],
   "source": [
    "constraints = {\"type\": \"ineq\", \"fun\": constraint_moving_avg}\n",
    "\n",
    "constraints_2 = [\n",
    "    {'type': 'ineq', 'fun': lambda y_adj: saisies - y_adj},  # y_adj <= saisies\n",
    "    {'type': 'ineq', 'fun': lambda y_adj: np.sum(saisies) - np.sum(y_adj)}  # somme(y_adj) <= somme(saisies)\n",
    "]\n",
    "\n",
    "bounds = [(0, None) for _ in y_init]\n",
    "\n",
    "result = minimize(objective, initial_receptions, constraints=constraints, method=\"SLSQP\")\n",
    "\n",
    "optimized_receptions = pd.Series(result.x, index=date_range)"
   ]
  },
  {
   "cell_type": "code",
   "execution_count": 68,
   "metadata": {},
   "outputs": [
    {
     "data": {
      "text/html": [
       "<div>\n",
       "<style scoped>\n",
       "    .dataframe tbody tr th:only-of-type {\n",
       "        vertical-align: middle;\n",
       "    }\n",
       "\n",
       "    .dataframe tbody tr th {\n",
       "        vertical-align: top;\n",
       "    }\n",
       "\n",
       "    .dataframe thead th {\n",
       "        text-align: right;\n",
       "    }\n",
       "</style>\n",
       "<table border=\"1\" class=\"dataframe\">\n",
       "  <thead>\n",
       "    <tr style=\"text-align: right;\">\n",
       "      <th></th>\n",
       "      <th>saisies</th>\n",
       "      <th>receptions_initiales</th>\n",
       "      <th>receptions_optimises</th>\n",
       "    </tr>\n",
       "  </thead>\n",
       "  <tbody>\n",
       "    <tr>\n",
       "      <th>2022-01-01</th>\n",
       "      <td>1861</td>\n",
       "      <td>847.875036</td>\n",
       "      <td>847.875036</td>\n",
       "    </tr>\n",
       "    <tr>\n",
       "      <th>2022-01-02</th>\n",
       "      <td>1939</td>\n",
       "      <td>646.033646</td>\n",
       "      <td>646.033646</td>\n",
       "    </tr>\n",
       "    <tr>\n",
       "      <th>2022-01-03</th>\n",
       "      <td>2659</td>\n",
       "      <td>1578.799398</td>\n",
       "      <td>1578.799398</td>\n",
       "    </tr>\n",
       "    <tr>\n",
       "      <th>2022-01-04</th>\n",
       "      <td>2361</td>\n",
       "      <td>1503.000126</td>\n",
       "      <td>1503.000126</td>\n",
       "    </tr>\n",
       "    <tr>\n",
       "      <th>2022-01-05</th>\n",
       "      <td>2686</td>\n",
       "      <td>884.425987</td>\n",
       "      <td>884.425987</td>\n",
       "    </tr>\n",
       "  </tbody>\n",
       "</table>\n",
       "</div>"
      ],
      "text/plain": [
       "            saisies  receptions_initiales  receptions_optimises\n",
       "2022-01-01     1861            847.875036            847.875036\n",
       "2022-01-02     1939            646.033646            646.033646\n",
       "2022-01-03     2659           1578.799398           1578.799398\n",
       "2022-01-04     2361           1503.000126           1503.000126\n",
       "2022-01-05     2686            884.425987            884.425987"
      ]
     },
     "execution_count": 68,
     "metadata": {},
     "output_type": "execute_result"
    }
   ],
   "source": [
    "df = pd.DataFrame({\n",
    "    \"saisies\": saisies,\n",
    "    \"receptions_initiales\": initial_receptions,\n",
    "    \"receptions_optimises\": optimized_receptions\n",
    "})\n",
    "\n",
    "df.head()"
   ]
  }
 ],
 "metadata": {
  "kernelspec": {
   "display_name": ".venv",
   "language": "python",
   "name": "python3"
  },
  "language_info": {
   "codemirror_mode": {
    "name": "ipython",
    "version": 3
   },
   "file_extension": ".py",
   "mimetype": "text/x-python",
   "name": "python",
   "nbconvert_exporter": "python",
   "pygments_lexer": "ipython3",
   "version": "3.12.2"
  }
 },
 "nbformat": 4,
 "nbformat_minor": 2
}

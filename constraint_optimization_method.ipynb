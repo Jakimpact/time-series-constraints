{
 "cells": [
  {
   "cell_type": "code",
   "execution_count": 1,
   "metadata": {},
   "outputs": [],
   "source": [
    "import numpy as np\n",
    "import pandas as pd\n",
    "\n",
    "from scipy.optimize import minimize"
   ]
  },
  {
   "cell_type": "code",
   "execution_count": 62,
   "metadata": {},
   "outputs": [],
   "source": [
    "date_range = pd.date_range(start='2022-01-01', end='2023-12-31', freq='D')\n",
    "saisies = pd.Series(np.random.randint(1500, 3001, size=len(date_range)), index=date_range)\n",
    "initial_receptions = saisies.apply(lambda x: x * np.random.uniform(0.2, 1.2))"
   ]
  },
  {
   "cell_type": "code",
   "execution_count": 43,
   "metadata": {},
   "outputs": [],
   "source": [
    "def objective(receptions):\n",
    "    return np.sum((receptions - initial_receptions)**2)\n",
    "\n",
    "def constraint_moving_avg(receptions):\n",
    "    rolling_saisies = saisies.rolling(window=30).mean().dropna()\n",
    "    rolling_receptions = pd.Series(receptions).rolling(window=30).mean().dropna()\n",
    "    return rolling_saisies - rolling_receptions"
   ]
  },
  {
   "cell_type": "code",
   "execution_count": 63,
   "metadata": {},
   "outputs": [],
   "source": [
    "constraints = {\"type\": \"ineq\", \"fun\": constraint_moving_avg}\n",
    "\n",
    "result = minimize(objective, initial_receptions, constraints=constraints, method=\"SLSQP\")\n",
    "\n",
    "optimized_receptions = pd.Series(result.x, index=date_range)"
   ]
  },
  {
   "cell_type": "code",
   "execution_count": 68,
   "metadata": {},
   "outputs": [
    {
     "data": {
      "text/html": [
       "<div>\n",
       "<style scoped>\n",
       "    .dataframe tbody tr th:only-of-type {\n",
       "        vertical-align: middle;\n",
       "    }\n",
       "\n",
       "    .dataframe tbody tr th {\n",
       "        vertical-align: top;\n",
       "    }\n",
       "\n",
       "    .dataframe thead th {\n",
       "        text-align: right;\n",
       "    }\n",
       "</style>\n",
       "<table border=\"1\" class=\"dataframe\">\n",
       "  <thead>\n",
       "    <tr style=\"text-align: right;\">\n",
       "      <th></th>\n",
       "      <th>saisies</th>\n",
       "      <th>receptions_initiales</th>\n",
       "      <th>receptions_optimises</th>\n",
       "    </tr>\n",
       "  </thead>\n",
       "  <tbody>\n",
       "    <tr>\n",
       "      <th>2022-01-01</th>\n",
       "      <td>1861</td>\n",
       "      <td>847.875036</td>\n",
       "      <td>847.875036</td>\n",
       "    </tr>\n",
       "    <tr>\n",
       "      <th>2022-01-02</th>\n",
       "      <td>1939</td>\n",
       "      <td>646.033646</td>\n",
       "      <td>646.033646</td>\n",
       "    </tr>\n",
       "    <tr>\n",
       "      <th>2022-01-03</th>\n",
       "      <td>2659</td>\n",
       "      <td>1578.799398</td>\n",
       "      <td>1578.799398</td>\n",
       "    </tr>\n",
       "    <tr>\n",
       "      <th>2022-01-04</th>\n",
       "      <td>2361</td>\n",
       "      <td>1503.000126</td>\n",
       "      <td>1503.000126</td>\n",
       "    </tr>\n",
       "    <tr>\n",
       "      <th>2022-01-05</th>\n",
       "      <td>2686</td>\n",
       "      <td>884.425987</td>\n",
       "      <td>884.425987</td>\n",
       "    </tr>\n",
       "  </tbody>\n",
       "</table>\n",
       "</div>"
      ],
      "text/plain": [
       "            saisies  receptions_initiales  receptions_optimises\n",
       "2022-01-01     1861            847.875036            847.875036\n",
       "2022-01-02     1939            646.033646            646.033646\n",
       "2022-01-03     2659           1578.799398           1578.799398\n",
       "2022-01-04     2361           1503.000126           1503.000126\n",
       "2022-01-05     2686            884.425987            884.425987"
      ]
     },
     "execution_count": 68,
     "metadata": {},
     "output_type": "execute_result"
    }
   ],
   "source": [
    "df = pd.DataFrame({\n",
    "    \"saisies\": saisies,\n",
    "    \"receptions_initiales\": initial_receptions,\n",
    "    \"receptions_optimises\": optimized_receptions\n",
    "})\n",
    "\n",
    "df.head()"
   ]
  }
 ],
 "metadata": {
  "kernelspec": {
   "display_name": ".venv",
   "language": "python",
   "name": "python3"
  },
  "language_info": {
   "codemirror_mode": {
    "name": "ipython",
    "version": 3
   },
   "file_extension": ".py",
   "mimetype": "text/x-python",
   "name": "python",
   "nbconvert_exporter": "python",
   "pygments_lexer": "ipython3",
   "version": "3.12.2"
  }
 },
 "nbformat": 4,
 "nbformat_minor": 2
}
